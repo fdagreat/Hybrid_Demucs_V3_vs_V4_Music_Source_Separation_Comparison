{
  "nbformat": 4,
  "nbformat_minor": 0,
  "metadata": {
    "colab": {
      "provenance": [],
      "authorship_tag": "ABX9TyP4gc9zuWQ6o056qcJYg21i",
      "include_colab_link": true
    },
    "kernelspec": {
      "name": "python3",
      "display_name": "Python 3"
    },
    "language_info": {
      "name": "python"
    }
  },
  "cells": [
    {
      "cell_type": "markdown",
      "metadata": {
        "id": "view-in-github",
        "colab_type": "text"
      },
      "source": [
        "<a href=\"https://colab.research.google.com/github/fdagreat/Hybrid_Demucs_V3_vs_V4_Music_Source_Separation_Comparison/blob/main/Hybrid_Demucs_V3_vs_V4_Music_Source_Separation_Comparison.ipynb\" target=\"_parent\"><img src=\"https://colab.research.google.com/assets/colab-badge.svg\" alt=\"Open In Colab\"/></a>"
      ]
    },
    {
      "cell_type": "markdown",
      "source": [],
      "metadata": {
        "id": "OrYVc2bzneNW"
      }
    },
    {
      "cell_type": "code",
      "source": [],
      "metadata": {
        "id": "0ewRSvMhnoLX"
      },
      "execution_count": null,
      "outputs": []
    },
    {
      "cell_type": "code",
      "execution_count": null,
      "metadata": {
        "id": "dJ8GUW5RlsXB"
      },
      "outputs": [],
      "source": []
    },
    {
      "cell_type": "code",
      "source": [],
      "metadata": {
        "id": "fhxixBqzndaL"
      },
      "execution_count": null,
      "outputs": []
    },
    {
      "cell_type": "code",
      "source": [
        "# Please BE VERY CAREFUL, this will link your entire drive.\n",
        "# So don't edit code, except the one that says 'Customize the following options',\n",
        "# or you might mess up your files.\n",
        "# IF YOU DO NO WANT TO LINK DRIVE, please see below for an alternative!\n",
        "from google.colab import drive\n",
        "drive.mount('/gdrive')"
      ],
      "metadata": {
        "id": "N4veCfuWndoY"
      },
      "execution_count": null,
      "outputs": []
    },
    {
      "cell_type": "code",
      "source": [
        "# Customize the following options!\n",
        "model = \"htdemucs\"\n",
        "extensions = [\"mp3\", \"wav\", \"ogg\", \"flac\"]  # we will look for all those file types.\n",
        "\n",
        "\n",
        "v3_path = '/gdrive/MyDrive/demucs_separated/mdx_extra_q'\n",
        "v4_path = '/gdrive/MyDrive/demucs_separated/htdemucs'"
      ],
      "metadata": {
        "id": "pExKWVChno2F"
      },
      "execution_count": null,
      "outputs": []
    },
    {
      "cell_type": "code",
      "source": [
        "import os\n",
        "import shutil\n",
        "import matlab.engine\n",
        "from google.colab import files\n",
        "\n",
        "def find_files(in_path):\n",
        "    out = []\n",
        "    for file in Path(in_path).iterdir():\n",
        "        if file.suffix.lower().lstrip(\".\") in extensions:\n",
        "            out.append(file)\n",
        "    return out\n",
        "\n",
        "\n",
        "def from_upload():\n",
        "    out_path = Path('separated')\n",
        "    in_path = Path('tmp_in')\n",
        "\n",
        "    if in_path.exists():\n",
        "        rmtree(in_path)\n",
        "    in_path.mkdir()\n",
        "\n",
        "    if out_path.exists():\n",
        "        rmtree(out_path)\n",
        "    out_path.mkdir()\n",
        "\n",
        "    uploaded = files.upload()\n",
        "    for name, content in uploaded.items():\n",
        "        (in_path / name).write_bytes(content)\n",
        "    separate(in_path, out_path)\n"
      ],
      "metadata": {
        "id": "BV2sQEjVnqbs"
      },
      "execution_count": null,
      "outputs": []
    },
    {
      "cell_type": "code",
      "source": [
        "import os\n",
        "import shutil\n",
        "import matlab.engine\n",
        "\n",
        "# Specify the directories containing the audio files\n",
        "directory1 = str(v3_path)\n",
        "directory2 = str(v4_path)\n",
        "\n",
        "# Create a temporary directory to store the audio files\n",
        "temp_directory = '/path/to/temp_directory'\n",
        "os.makedirs(temp_directory, exist_ok=True)\n",
        "\n",
        "# Get a list of files in the first directory\n",
        "files1 = os.listdir(directory1)\n",
        "\n",
        "# Copy the corresponding audio files to the temporary directory\n",
        "for file in files1:\n",
        "    source_file = os.path.join(directory1, file)\n",
        "    destination_file = os.path.join(temp_directory, file)\n",
        "    shutil.copyfile(source_file, destination_file)\n",
        "\n",
        "# Start the MATLAB engine\n",
        "matlab_engine = matlab.engine.start_matlab()\n",
        "\n",
        "# Perform wavelength comparison for each audio file\n",
        "for file in files1:\n",
        "    audio_file1 = os.path.join(directory1, file)\n",
        "    audio_file2 = os.path.join(directory2, file)\n",
        "    temp_file = os.path.join(temp_directory, file)\n",
        "\n",
        "    # Load the audio files in MATLAB\n",
        "    matlab_engine.eval(f\"audio1 = audioread('{audio_file1}');\")\n",
        "    matlab_engine.eval(f\"audio2 = audioread('{audio_file2}');\")\n",
        "    matlab_engine.eval(f\"temp_audio = audioread('{temp_file}');\")\n",
        "\n",
        "    # Perform wavelength comparison using a MATLAB function\n",
        "    matlab_engine.eval(\"result1 = compare_wavelength(audio1, temp_audio);\")\n",
        "    matlab_engine.eval(\"result2 = compare_wavelength(audio2, temp_audio);\")\n",
        "\n",
        "    # Retrieve the results from MATLAB\n",
        "    result1 = matlab_engine.workspace['result1']\n",
        "    result2 = matlab_engine.workspace['result2']\n",
        "\n",
        "    print(f\"Wavelength comparison for {file}:\")\n",
        "    print(f\"Result 1: {result1}\")\n",
        "    print(f\"Result 2: {result2}\")\n",
        "    print()\n",
        "\n",
        "# Close the MATLAB engine\n",
        "matlab_engine.quit()\n",
        "\n",
        "# Remove the temporary directory and its contents\n",
        "shutil.rmtree(temp_directory)\n"
      ],
      "metadata": {
        "id": "yr1WRy8mo0mB"
      },
      "execution_count": null,
      "outputs": []
    }
  ]
}